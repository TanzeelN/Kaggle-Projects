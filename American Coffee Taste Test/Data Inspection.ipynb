{
 "cells": [
  {
   "cell_type": "markdown",
   "metadata": {},
   "source": [
    "# American Coffee Taste Test\n",
    "\n",
    "This dataset is based off a nationwide survey within the USA."
   ]
  },
  {
   "cell_type": "markdown",
   "metadata": {},
   "source": [
    "## 1.0 Data Inspection\n",
    "The aim of this section is to understand the type of data that is available and the types of data cleaning/engineering that could be performed to make the dataset more understandable."
   ]
  },
  {
   "cell_type": "code",
   "execution_count": 121,
   "metadata": {},
   "outputs": [],
   "source": [
    "import pandas as pd\n",
    "import numpy as np\n",
    "import matplotlib.pyplot as plt"
   ]
  },
  {
   "cell_type": "code",
   "execution_count": 122,
   "metadata": {},
   "outputs": [],
   "source": [
    "# Reading the Dataset from kaggle.\n",
    "CoffeeData = pd.read_csv(\"coffee_survey.csv\")"
   ]
  },
  {
   "cell_type": "markdown",
   "metadata": {},
   "source": [
    "In visual Inspection:\n",
    "- Submission_ID shows the be a unique ID meaning it can be used as a primary key.\n",
    "- The data is generally clean and well populated."
   ]
  },
  {
   "cell_type": "code",
   "execution_count": 123,
   "metadata": {},
   "outputs": [
    {
     "data": {
      "text/html": [
       "<div>\n",
       "<style scoped>\n",
       "    .dataframe tbody tr th:only-of-type {\n",
       "        vertical-align: middle;\n",
       "    }\n",
       "\n",
       "    .dataframe tbody tr th {\n",
       "        vertical-align: top;\n",
       "    }\n",
       "\n",
       "    .dataframe thead th {\n",
       "        text-align: right;\n",
       "    }\n",
       "</style>\n",
       "<table border=\"1\" class=\"dataframe\">\n",
       "  <thead>\n",
       "    <tr style=\"text-align: right;\">\n",
       "      <th></th>\n",
       "      <th>submission_id</th>\n",
       "      <th>age</th>\n",
       "      <th>cups</th>\n",
       "      <th>where_drink</th>\n",
       "      <th>brew</th>\n",
       "      <th>brew_other</th>\n",
       "      <th>purchase</th>\n",
       "      <th>purchase_other</th>\n",
       "      <th>favorite</th>\n",
       "      <th>favorite_specify</th>\n",
       "      <th>...</th>\n",
       "      <th>spent_equipment</th>\n",
       "      <th>value_equipment</th>\n",
       "      <th>gender</th>\n",
       "      <th>gender_specify</th>\n",
       "      <th>education_level</th>\n",
       "      <th>ethnicity_race</th>\n",
       "      <th>ethnicity_race_specify</th>\n",
       "      <th>employment_status</th>\n",
       "      <th>number_children</th>\n",
       "      <th>political_affiliation</th>\n",
       "    </tr>\n",
       "  </thead>\n",
       "  <tbody>\n",
       "    <tr>\n",
       "      <th>0</th>\n",
       "      <td>gMR29l</td>\n",
       "      <td>18-24 years old</td>\n",
       "      <td>NaN</td>\n",
       "      <td>NaN</td>\n",
       "      <td>NaN</td>\n",
       "      <td>NaN</td>\n",
       "      <td>NaN</td>\n",
       "      <td>NaN</td>\n",
       "      <td>Regular drip coffee</td>\n",
       "      <td>NaN</td>\n",
       "      <td>...</td>\n",
       "      <td>NaN</td>\n",
       "      <td>NaN</td>\n",
       "      <td>NaN</td>\n",
       "      <td>NaN</td>\n",
       "      <td>NaN</td>\n",
       "      <td>NaN</td>\n",
       "      <td>NaN</td>\n",
       "      <td>NaN</td>\n",
       "      <td>NaN</td>\n",
       "      <td>NaN</td>\n",
       "    </tr>\n",
       "    <tr>\n",
       "      <th>1</th>\n",
       "      <td>BkPN0e</td>\n",
       "      <td>25-34 years old</td>\n",
       "      <td>NaN</td>\n",
       "      <td>NaN</td>\n",
       "      <td>Pod/capsule machine (e.g. Keurig/Nespresso)</td>\n",
       "      <td>NaN</td>\n",
       "      <td>NaN</td>\n",
       "      <td>NaN</td>\n",
       "      <td>Iced coffee</td>\n",
       "      <td>NaN</td>\n",
       "      <td>...</td>\n",
       "      <td>NaN</td>\n",
       "      <td>NaN</td>\n",
       "      <td>NaN</td>\n",
       "      <td>NaN</td>\n",
       "      <td>NaN</td>\n",
       "      <td>NaN</td>\n",
       "      <td>NaN</td>\n",
       "      <td>NaN</td>\n",
       "      <td>NaN</td>\n",
       "      <td>NaN</td>\n",
       "    </tr>\n",
       "    <tr>\n",
       "      <th>2</th>\n",
       "      <td>W5G8jj</td>\n",
       "      <td>25-34 years old</td>\n",
       "      <td>NaN</td>\n",
       "      <td>NaN</td>\n",
       "      <td>Bean-to-cup machine</td>\n",
       "      <td>NaN</td>\n",
       "      <td>NaN</td>\n",
       "      <td>NaN</td>\n",
       "      <td>Regular drip coffee</td>\n",
       "      <td>NaN</td>\n",
       "      <td>...</td>\n",
       "      <td>NaN</td>\n",
       "      <td>NaN</td>\n",
       "      <td>NaN</td>\n",
       "      <td>NaN</td>\n",
       "      <td>NaN</td>\n",
       "      <td>NaN</td>\n",
       "      <td>NaN</td>\n",
       "      <td>NaN</td>\n",
       "      <td>NaN</td>\n",
       "      <td>NaN</td>\n",
       "    </tr>\n",
       "    <tr>\n",
       "      <th>3</th>\n",
       "      <td>4xWgGr</td>\n",
       "      <td>35-44 years old</td>\n",
       "      <td>NaN</td>\n",
       "      <td>NaN</td>\n",
       "      <td>Coffee brewing machine (e.g. Mr. Coffee)</td>\n",
       "      <td>NaN</td>\n",
       "      <td>NaN</td>\n",
       "      <td>NaN</td>\n",
       "      <td>Iced coffee</td>\n",
       "      <td>NaN</td>\n",
       "      <td>...</td>\n",
       "      <td>NaN</td>\n",
       "      <td>NaN</td>\n",
       "      <td>NaN</td>\n",
       "      <td>NaN</td>\n",
       "      <td>NaN</td>\n",
       "      <td>NaN</td>\n",
       "      <td>NaN</td>\n",
       "      <td>NaN</td>\n",
       "      <td>NaN</td>\n",
       "      <td>NaN</td>\n",
       "    </tr>\n",
       "    <tr>\n",
       "      <th>4</th>\n",
       "      <td>QD27Q8</td>\n",
       "      <td>25-34 years old</td>\n",
       "      <td>NaN</td>\n",
       "      <td>NaN</td>\n",
       "      <td>Pour over</td>\n",
       "      <td>NaN</td>\n",
       "      <td>NaN</td>\n",
       "      <td>NaN</td>\n",
       "      <td>Latte</td>\n",
       "      <td>NaN</td>\n",
       "      <td>...</td>\n",
       "      <td>NaN</td>\n",
       "      <td>NaN</td>\n",
       "      <td>NaN</td>\n",
       "      <td>NaN</td>\n",
       "      <td>NaN</td>\n",
       "      <td>NaN</td>\n",
       "      <td>NaN</td>\n",
       "      <td>NaN</td>\n",
       "      <td>NaN</td>\n",
       "      <td>NaN</td>\n",
       "    </tr>\n",
       "  </tbody>\n",
       "</table>\n",
       "<p>5 rows × 57 columns</p>\n",
       "</div>"
      ],
      "text/plain": [
       "  submission_id              age cups where_drink  \\\n",
       "0        gMR29l  18-24 years old  NaN         NaN   \n",
       "1        BkPN0e  25-34 years old  NaN         NaN   \n",
       "2        W5G8jj  25-34 years old  NaN         NaN   \n",
       "3        4xWgGr  35-44 years old  NaN         NaN   \n",
       "4        QD27Q8  25-34 years old  NaN         NaN   \n",
       "\n",
       "                                          brew brew_other purchase  \\\n",
       "0                                          NaN        NaN      NaN   \n",
       "1  Pod/capsule machine (e.g. Keurig/Nespresso)        NaN      NaN   \n",
       "2                          Bean-to-cup machine        NaN      NaN   \n",
       "3     Coffee brewing machine (e.g. Mr. Coffee)        NaN      NaN   \n",
       "4                                    Pour over        NaN      NaN   \n",
       "\n",
       "  purchase_other             favorite favorite_specify  ... spent_equipment  \\\n",
       "0            NaN  Regular drip coffee              NaN  ...             NaN   \n",
       "1            NaN          Iced coffee              NaN  ...             NaN   \n",
       "2            NaN  Regular drip coffee              NaN  ...             NaN   \n",
       "3            NaN          Iced coffee              NaN  ...             NaN   \n",
       "4            NaN                Latte              NaN  ...             NaN   \n",
       "\n",
       "  value_equipment gender gender_specify education_level ethnicity_race  \\\n",
       "0             NaN    NaN            NaN             NaN            NaN   \n",
       "1             NaN    NaN            NaN             NaN            NaN   \n",
       "2             NaN    NaN            NaN             NaN            NaN   \n",
       "3             NaN    NaN            NaN             NaN            NaN   \n",
       "4             NaN    NaN            NaN             NaN            NaN   \n",
       "\n",
       "  ethnicity_race_specify employment_status  number_children  \\\n",
       "0                    NaN               NaN              NaN   \n",
       "1                    NaN               NaN              NaN   \n",
       "2                    NaN               NaN              NaN   \n",
       "3                    NaN               NaN              NaN   \n",
       "4                    NaN               NaN              NaN   \n",
       "\n",
       "   political_affiliation  \n",
       "0                    NaN  \n",
       "1                    NaN  \n",
       "2                    NaN  \n",
       "3                    NaN  \n",
       "4                    NaN  \n",
       "\n",
       "[5 rows x 57 columns]"
      ]
     },
     "execution_count": 123,
     "metadata": {},
     "output_type": "execute_result"
    }
   ],
   "source": [
    "CoffeeData.head()"
   ]
  },
  {
   "cell_type": "code",
   "execution_count": 124,
   "metadata": {},
   "outputs": [
    {
     "data": {
      "text/plain": [
       "np.False_"
      ]
     },
     "execution_count": 124,
     "metadata": {},
     "output_type": "execute_result"
    }
   ],
   "source": [
    "PrimaryIDCheck = CoffeeData['submission_id'].duplicated()\n",
    "PrimaryIDCheck = PrimaryIDCheck.any()\n",
    "PrimaryIDCheck"
   ]
  },
  {
   "cell_type": "code",
   "execution_count": 125,
   "metadata": {},
   "outputs": [
    {
     "name": "stdout",
     "output_type": "stream",
     "text": [
      "<class 'pandas.core.frame.DataFrame'>\n",
      "RangeIndex: 4042 entries, 0 to 4041\n",
      "Data columns (total 57 columns):\n",
      " #   Column                        Non-Null Count  Dtype  \n",
      "---  ------                        --------------  -----  \n",
      " 0   submission_id                 4042 non-null   object \n",
      " 1   age                           4011 non-null   object \n",
      " 2   cups                          3949 non-null   object \n",
      " 3   where_drink                   3972 non-null   object \n",
      " 4   brew                          3657 non-null   object \n",
      " 5   brew_other                    678 non-null    object \n",
      " 6   purchase                      710 non-null    object \n",
      " 7   purchase_other                31 non-null     object \n",
      " 8   favorite                      3980 non-null   object \n",
      " 9   favorite_specify              114 non-null    object \n",
      " 10  additions                     3959 non-null   object \n",
      " 11  additions_other               48 non-null     object \n",
      " 12  dairy                         1686 non-null   object \n",
      " 13  sweetener                     512 non-null    object \n",
      " 14  style                         3958 non-null   object \n",
      " 15  strength                      3916 non-null   object \n",
      " 16  roast_level                   3940 non-null   object \n",
      " 17  caffeine                      3917 non-null   object \n",
      " 18  expertise                     3938 non-null   float64\n",
      " 19  coffee_a_bitterness           3798 non-null   float64\n",
      " 20  coffee_a_acidity              3779 non-null   float64\n",
      " 21  coffee_a_personal_preference  3789 non-null   float64\n",
      " 22  coffee_a_notes                2578 non-null   object \n",
      " 23  coffee_b_bitterness           3780 non-null   float64\n",
      " 24  coffee_b_acidity              3767 non-null   float64\n",
      " 25  coffee_b_personal_preference  3773 non-null   float64\n",
      " 26  coffee_b_notes                2454 non-null   object \n",
      " 27  coffee_c_bitterness           3764 non-null   float64\n",
      " 28  coffee_c_acidity              3751 non-null   float64\n",
      " 29  coffee_c_personal_preference  3766 non-null   float64\n",
      " 30  coffee_c_notes                2382 non-null   object \n",
      " 31  coffee_d_bitterness           3767 non-null   float64\n",
      " 32  coffee_d_acidity              3765 non-null   float64\n",
      " 33  coffee_d_personal_preference  3764 non-null   float64\n",
      " 34  coffee_d_notes                2588 non-null   object \n",
      " 35  prefer_abc                    3772 non-null   object \n",
      " 36  prefer_ad                     3761 non-null   object \n",
      " 37  prefer_overall                3770 non-null   object \n",
      " 38  wfh                           3524 non-null   object \n",
      " 39  total_spend                   3511 non-null   object \n",
      " 40  why_drink                     3568 non-null   object \n",
      " 41  why_drink_other               167 non-null    object \n",
      " 42  taste                         3563 non-null   object \n",
      " 43  know_source                   3559 non-null   object \n",
      " 44  most_paid                     3527 non-null   object \n",
      " 45  most_willing                  3510 non-null   object \n",
      " 46  value_cafe                    3500 non-null   object \n",
      " 47  spent_equipment               3506 non-null   object \n",
      " 48  value_equipment               3494 non-null   object \n",
      " 49  gender                        3523 non-null   object \n",
      " 50  gender_specify                12 non-null     object \n",
      " 51  education_level               3438 non-null   object \n",
      " 52  ethnicity_race                3418 non-null   object \n",
      " 53  ethnicity_race_specify        105 non-null    object \n",
      " 54  employment_status             3419 non-null   object \n",
      " 55  number_children               856 non-null    object \n",
      " 56  political_affiliation         3289 non-null   object \n",
      "dtypes: float64(13), object(44)\n",
      "memory usage: 1.8+ MB\n"
     ]
    }
   ],
   "source": [
    "CoffeeData.info()"
   ]
  },
  {
   "cell_type": "code",
   "execution_count": 126,
   "metadata": {},
   "outputs": [
    {
     "data": {
      "text/plain": [
       "Index(['submission_id', 'age', 'cups', 'where_drink', 'brew', 'brew_other',\n",
       "       'purchase', 'purchase_other', 'favorite', 'favorite_specify',\n",
       "       'additions', 'additions_other', 'dairy', 'sweetener', 'style',\n",
       "       'strength', 'roast_level', 'caffeine', 'expertise',\n",
       "       'coffee_a_bitterness', 'coffee_a_acidity',\n",
       "       'coffee_a_personal_preference', 'coffee_a_notes', 'coffee_b_bitterness',\n",
       "       'coffee_b_acidity', 'coffee_b_personal_preference', 'coffee_b_notes',\n",
       "       'coffee_c_bitterness', 'coffee_c_acidity',\n",
       "       'coffee_c_personal_preference', 'coffee_c_notes', 'coffee_d_bitterness',\n",
       "       'coffee_d_acidity', 'coffee_d_personal_preference', 'coffee_d_notes',\n",
       "       'prefer_abc', 'prefer_ad', 'prefer_overall', 'wfh', 'total_spend',\n",
       "       'why_drink', 'why_drink_other', 'taste', 'know_source', 'most_paid',\n",
       "       'most_willing', 'value_cafe', 'spent_equipment', 'value_equipment',\n",
       "       'gender', 'gender_specify', 'education_level', 'ethnicity_race',\n",
       "       'ethnicity_race_specify', 'employment_status', 'number_children',\n",
       "       'political_affiliation'],\n",
       "      dtype='object')"
      ]
     },
     "execution_count": 126,
     "metadata": {},
     "output_type": "execute_result"
    }
   ],
   "source": [
    "CoffeeData.columns"
   ]
  },
  {
   "cell_type": "code",
   "execution_count": 127,
   "metadata": {},
   "outputs": [
    {
     "name": "stdout",
     "output_type": "stream",
     "text": [
      "Unique values in submission_id: ['gMR29l' 'BkPN0e' 'W5G8jj' '4xWgGr' 'QD27Q8']\n",
      "Unique values in age: ['18-24 years old' '25-34 years old' '35-44 years old' '55-64 years old'\n",
      " nan]\n",
      "Unique values in cups: [nan 'Less than 1' '2' '1' '3']\n",
      "Unique values in where_drink: [nan 'At a cafe, At the office, At home, On the go' 'At a cafe'\n",
      " 'On the go, At a cafe, At home, At the office' 'At the office']\n",
      "Unique values in brew: [nan 'Pod/capsule machine (e.g. Keurig/Nespresso)' 'Bean-to-cup machine'\n",
      " 'Coffee brewing machine (e.g. Mr. Coffee)' 'Pour over']\n",
      "Unique values in brew_other: [nan 'Aeropress' 'Mokkapot' 'Moka pot' 'Aeropress, moka pot.']\n",
      "Unique values in purchase: [nan\n",
      " 'National chain (e.g. Starbucks, Dunkin), Local cafe, Drive-thru, Specialty coffee shop, Other'\n",
      " 'Local cafe, Specialty coffee shop'\n",
      " 'National chain (e.g. Starbucks, Dunkin), Local cafe, Specialty coffee shop'\n",
      " 'Local cafe']\n",
      "Unique values in purchase_other: [nan\n",
      " 'I don’t, cafe coffee has never appealed to me because of the cost to quantity ratio'\n",
      " 'Online' 'Cometeer' 'Online ordering']\n",
      "Unique values in favorite: ['Regular drip coffee' 'Iced coffee' 'Latte' 'Pourover' nan]\n",
      "Unique values in favorite_specify: [nan 'cortado' 'Flat white' 'Tea' 'Espresso Tonic']\n",
      "Unique values in additions: ['No - just black' 'Sugar or sweetener, No - just black'\n",
      " 'No - just black, Cinnamon' 'Half & half' nan]\n",
      "Unique values in additions_other: [nan 'Occasionally I will add collagen powder if I made instant coffee'\n",
      " 'Coconut' 'Salt' 'Coco']\n",
      "Unique values in dairy: [nan 'Whole milk' 'Half and half' 'Oat milk' 'Skim milk, Oat milk']\n",
      "Unique values in sweetener: [nan 'Granulated Sugar, Brown Sugar' 'Honey' 'Brown Sugar'\n",
      " 'Granulated Sugar']\n",
      "Unique values in style: ['Complex' 'Light' 'Sweet' nan 'Full Bodied']\n",
      "Unique values in strength: [nan 'Somewhat light' 'Somewhat strong' 'Medium' 'Very strong']\n",
      "Unique values in roast_level: [nan 'Light' 'Blonde' 'Medium' 'Nordic']\n",
      "Unique values in caffeine: [nan 'Full caffeine' 'Half caff' 'Decaf']\n",
      "Unique values in expertise: [nan  7. 10.  6.  4.]\n",
      "Unique values in coffee_a_bitterness: [nan  4.  1.  3.  2.]\n",
      "Unique values in coffee_a_acidity: [nan  4.  1.  3.  5.]\n",
      "Unique values in coffee_a_personal_preference: [nan  4.  1.  3.  2.]\n",
      "Unique values in coffee_a_notes: [nan 'a' 'Bitter, soft'\n",
      " 'This is just an audit to test if outliers are filtered away'\n",
      " 'Sweet, light honey/toasty notes']\n",
      "Unique values in coffee_b_bitterness: [nan  4.  1.  3.  2.]\n",
      "Unique values in coffee_b_acidity: [nan  4.  1.  3.  2.]\n",
      "Unique values in coffee_b_personal_preference: [nan  4.  1.  3.  5.]\n",
      "Unique values in coffee_b_notes: [nan 'b' 'Hazelnut, bold' 'I personally did not have a tasting kit'\n",
      " 'Peanut, malt, notable bitterness. A bit thick in texture.']\n",
      "Unique values in coffee_c_bitterness: [nan  4.  1.  3.  2.]\n",
      "Unique values in coffee_c_acidity: [nan  4.  1.  3.  2.]\n",
      "Unique values in coffee_c_personal_preference: [nan  4.  1.  3.  2.]\n",
      "Unique values in coffee_c_notes: [nan 'c' 'Dark roast' 'But the form does not ask me for a kit identifier'\n",
      " 'Vegetal initial aroma, some astringency. Least favorite.']\n",
      "Unique values in coffee_d_bitterness: [nan  4.  1.  3.  5.]\n",
      "Unique values in coffee_d_acidity: [nan  4.  1.  3.  2.]\n",
      "Unique values in coffee_d_personal_preference: [nan  4.  1.  3.  5.]\n",
      "Unique values in coffee_d_notes: [nan 'd' 'Fruity, light' 'A small mistake to fix next time ;)'\n",
      " 'Unripe fruit.']\n",
      "Unique values in prefer_abc: [nan 'Coffee A' 'Coffee C' 'Coffee B']\n",
      "Unique values in prefer_ad: [nan 'Coffee D' 'Coffee A']\n",
      "Unique values in prefer_overall: [nan 'Coffee B' 'Coffee D' 'Coffee A' 'Coffee C']\n",
      "Unique values in wfh: [nan 'I primarily work from home' 'I do a mix of both'\n",
      " 'I primarily work in person']\n",
      "Unique values in total_spend: [nan '>$100' '$40-$60' '$20-$40' '$60-$80']\n",
      "Unique values in why_drink: [nan 'It tastes good' 'It tastes good, I need the caffeine'\n",
      " 'It tastes good, I need the caffeine, I need the ritual'\n",
      " 'I need the ritual, It tastes good']\n",
      "Unique values in why_drink_other: [nan \"I don't\" 'Comforting, warmth' 'Fun and devirse'\n",
      " 'Support local business']\n",
      "Unique values in taste: [nan 'Yes' 'No']\n",
      "Unique values in know_source: [nan 'Yes' 'No']\n",
      "Unique values in most_paid: [nan '$4-$6' '$2-$4' '$10-$15' '$6-$8']\n",
      "Unique values in most_willing: [nan '$8-$10' 'More than $20' '$15-$20' '$4-$6']\n",
      "Unique values in value_cafe: [nan 'No' 'Yes']\n",
      "Unique values in spent_equipment: [nan '$500-$1000' '$50-$100' '$100-$300' '$300-$500']\n",
      "Unique values in value_equipment: [nan 'Yes' 'No']\n",
      "Unique values in gender: [nan 'Other (please specify)' 'Female' 'Male' 'Non-binary']\n",
      "Unique values in gender_specify: [nan 'Cis' 'Transgender Female' 'Nonbinary woman' 'Male + female']\n",
      "Unique values in education_level: [nan \"Bachelor's degree\" \"Master's degree\" 'Less than high school'\n",
      " \"Some college or associate's degree\"]\n",
      "Unique values in ethnicity_race: [nan 'Other (please specify)' 'White/Caucasian' 'Asian/Pacific Islander'\n",
      " 'Black/African American']\n",
      "Unique values in ethnicity_race_specify: [nan 'Alaskan native' 'Mix' 'mixed' 'Mixed']\n",
      "Unique values in employment_status: [nan 'Employed full-time' 'Unemployed' 'Student' 'Employed part-time']\n",
      "Unique values in number_children: [nan 'More than 3' '2' '3' '1']\n",
      "Unique values in political_affiliation: [nan 'Democrat' 'No affiliation' 'Independent' 'Republican']\n"
     ]
    }
   ],
   "source": [
    "\n",
    "\n",
    "# Get unique values for all columns\n",
    "unique_values = {col: CoffeeData[col].unique()[:5] for col in CoffeeData.columns}\n",
    "\n",
    "# Print unique values for all columns\n",
    "for col, values in unique_values.items():\n",
    "    print(f\"Unique values in {col}: {values}\")\n"
   ]
  },
  {
   "cell_type": "markdown",
   "metadata": {},
   "source": [
    "## The Aim:\n",
    "We will be looking at specifically which cofee was rated the best and the comments that were made regarding them. <br>\n",
    "To be begin with, these are the questions we will be answering:\n",
    "- Which coffee was rated the highest?\n",
    "- How do the coffee styles vary with bitterness, acidity & preference?\n",
    "- Which comments were the most populer for each coffee style?\n",
    "- What made the highest rated coffee the most preferred?"
   ]
  },
  {
   "cell_type": "markdown",
   "metadata": {},
   "source": [
    "## 2.0 Data Analysis\n"
   ]
  },
  {
   "cell_type": "code",
   "execution_count": 128,
   "metadata": {},
   "outputs": [],
   "source": [
    "#Keep all the relevant columns\n",
    "Data = CoffeeData[['submission_id','coffee_a_bitterness', 'coffee_a_acidity',\n",
    "       'coffee_a_personal_preference', 'coffee_a_notes', 'coffee_b_bitterness',\n",
    "       'coffee_b_acidity', 'coffee_b_personal_preference', 'coffee_b_notes',\n",
    "       'coffee_c_bitterness', 'coffee_c_acidity',\n",
    "       'coffee_c_personal_preference', 'coffee_c_notes', 'coffee_d_bitterness',\n",
    "       'coffee_d_acidity', 'coffee_d_personal_preference', 'coffee_d_notes',\n",
    "       'prefer_abc', 'prefer_ad', 'prefer_overall']]"
   ]
  },
  {
   "cell_type": "code",
   "execution_count": 129,
   "metadata": {},
   "outputs": [
    {
     "data": {
      "text/plain": [
       "np.int64(226)"
      ]
     },
     "execution_count": 129,
     "metadata": {},
     "output_type": "execute_result"
    }
   ],
   "source": [
    "RowCheck = Data.drop(columns = ['submission_id'])\n",
    "#Are there any rows with all NA\n",
    "RowswithNA = RowCheck.isna().all(axis=1)\n",
    "#There are 226 rows which come up with all NA\n",
    "RowswithNA.sum()\n"
   ]
  },
  {
   "cell_type": "code",
   "execution_count": 130,
   "metadata": {},
   "outputs": [],
   "source": [
    "#Update the DataFrame\n",
    "Data = Data[~RowswithNA]"
   ]
  },
  {
   "cell_type": "markdown",
   "metadata": {},
   "source": [
    "### 2.1 Which coffee was rated the highest?"
   ]
  },
  {
   "cell_type": "code",
   "execution_count": 131,
   "metadata": {},
   "outputs": [],
   "source": [
    "HighestOverall = pd.DataFrame(Data['prefer_overall'].value_counts())\n",
    "DesiredIndex = ['Coffee A', 'Coffee B', 'Coffee C', 'Coffee D']\n",
    "HighestOverall = HighestOverall.reindex(DesiredIndex)\n",
    "\n",
    "CoffeeNames = {'Coffee A': 'Klatch', 'Coffee B': 'Equator', 'Coffee C': 'George Howell', 'Coffee D': 'Black and White'}\n",
    "\n",
    "HighestOverall = HighestOverall.rename(CoffeeNames)"
   ]
  },
  {
   "cell_type": "code",
   "execution_count": 132,
   "metadata": {},
   "outputs": [],
   "source": [
    "# Extract data for plotting\n",
    "categories = HighestOverall.index\n",
    "counts = HighestOverall['count']\n"
   ]
  },
  {
   "cell_type": "code",
   "execution_count": 133,
   "metadata": {},
   "outputs": [
    {
     "data": {
      "image/png": "[encoded data removed]",
      "text/plain": [
       "<Figure size 640x480 with 1 Axes>"
      ]
     },
     "metadata": {},
     "output_type": "display_data"
    }
   ],
   "source": [
    "# Plotting\n",
    "plt.bar(categories, counts, color = 'maroon')\n",
    "plt.xlabel('Coffee Type')\n",
    "plt.ylabel('Number Of Votes')\n",
    "plt.title('Which Coffee Is The Most Preferred?')\n",
    "plt.show()"
   ]
  },
  {
   "cell_type": "code",
   "execution_count": 134,
   "metadata": {},
   "outputs": [
    {
     "data": {
      "text/html": [
       "<div>\n",
       "<style scoped>\n",
       "    .dataframe tbody tr th:only-of-type {\n",
       "        vertical-align: middle;\n",
       "    }\n",
       "\n",
       "    .dataframe tbody tr th {\n",
       "        vertical-align: top;\n",
       "    }\n",
       "\n",
       "    .dataframe thead th {\n",
       "        text-align: right;\n",
       "    }\n",
       "</style>\n",
       "<table border=\"1\" class=\"dataframe\">\n",
       "  <thead>\n",
       "    <tr style=\"text-align: right;\">\n",
       "      <th></th>\n",
       "      <th>count</th>\n",
       "      <th>Percentage</th>\n",
       "    </tr>\n",
       "    <tr>\n",
       "      <th>prefer_overall</th>\n",
       "      <th></th>\n",
       "      <th></th>\n",
       "    </tr>\n",
       "  </thead>\n",
       "  <tbody>\n",
       "    <tr>\n",
       "      <th>Klatch</th>\n",
       "      <td>818</td>\n",
       "      <td>21.70</td>\n",
       "    </tr>\n",
       "    <tr>\n",
       "      <th>Equator</th>\n",
       "      <td>783</td>\n",
       "      <td>20.77</td>\n",
       "    </tr>\n",
       "    <tr>\n",
       "      <th>George Howell</th>\n",
       "      <td>784</td>\n",
       "      <td>20.80</td>\n",
       "    </tr>\n",
       "    <tr>\n",
       "      <th>Black and White</th>\n",
       "      <td>1385</td>\n",
       "      <td>36.74</td>\n",
       "    </tr>\n",
       "  </tbody>\n",
       "</table>\n",
       "</div>"
      ],
      "text/plain": [
       "                 count  Percentage\n",
       "prefer_overall                    \n",
       "Klatch             818       21.70\n",
       "Equator            783       20.77\n",
       "George Howell      784       20.80\n",
       "Black and White   1385       36.74"
      ]
     },
     "execution_count": 134,
     "metadata": {},
     "output_type": "execute_result"
    }
   ],
   "source": [
    "HighestOverall['Percentage'] = round(HighestOverall['count']/HighestOverall['count'].sum()*100,2)\n",
    "HighestOverall"
   ]
  },
  {
   "cell_type": "markdown",
   "metadata": {},
   "source": [
    "### Findings\n",
    "What is easily seen is that Black and White is by far the most popular coffee product with a considerable 1385 votes.\n",
    "\n",
    "Besides that, the other three coffees seem to have around the same amount of votes with minimal fluctiations. However, Klatch seems to be slightly in the lead.\n",
    "\n",
    "Overall, the highest rated coffees in order are:\n",
    "- Black and White (36.7%)\n",
    "- Klatch (21.7%)\n",
    "- George Howell (20.8%)\n",
    "- Equator (20%.8)"
   ]
  },
  {
   "cell_type": "code",
   "execution_count": null,
   "metadata": {},
   "outputs": [],
   "source": []
  }
 ],
 "metadata": {
  "kernelspec": {
   "display_name": "Python 3",
   "language": "python",
   "name": "python3"
  },
  "language_info": {
   "codemirror_mode": {
    "name": "ipython",
    "version": 3
   },
   "file_extension": ".py",
   "mimetype": "text/x-python",
   "name": "python",
   "nbconvert_exporter": "python",
   "pygments_lexer": "ipython3",
   "version": "3.12.4"
  }
 },
 "nbformat": 4,
 "nbformat_minor": 2
}
